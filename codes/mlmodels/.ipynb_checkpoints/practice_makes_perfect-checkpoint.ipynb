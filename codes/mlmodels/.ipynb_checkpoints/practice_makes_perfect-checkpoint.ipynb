{
 "cells": [
  {
   "cell_type": "markdown",
   "metadata": {},
   "source": [
    "Implement a model per day. Log:\n",
    "* 6-15 Adaboost\n",
    "* 6-17 kNN\n",
    "* 6-18 AdaBoost"
   ]
  },
  {
   "cell_type": "code",
   "execution_count": 4,
   "metadata": {},
   "outputs": [
    {
     "data": {
      "text/plain": [
       "1.4142135623730951"
      ]
     },
     "execution_count": 4,
     "metadata": {},
     "output_type": "execute_result"
    }
   ],
   "source": [
    "import numpy as np\n",
    "from sklearn.preprocessing import StandardScaler\n",
    "from collections import Counter\n",
    "def dist(a, b):\n",
    "    return np.sqrt(np.sum((a-b)**2))\n",
    "\n",
    "class kNN:\n",
    "    def __init__(self, n_neighbors=3):\n",
    "        self.n_neighbors = n_neighbors\n",
    "        self.scaler = StandardScaler()\n",
    "    \n",
    "    def fit(self, X, y):\n",
    "        self.X = self.scaler.fit_transform(X)\n",
    "        self.y = y \n",
    "    \n",
    "    def predict(self, X):\n",
    "        X_s = self.scaler.transform(X)\n",
    "        y_preds = list(map(self._predict, X_s))\n",
    "        return np.array(y_preds)\n",
    "    \n",
    "    def _predict(self, x):\n",
    "        distances = [dist(x, sample) for sample in self.X]\n",
    "        k_indexes = np.argsort(distances)[:self.n_neighbors]\n",
    "        return Counter([self.y[i] for i in k_indexes]).most_common()[0][0]\n",
    "        \n",
    "    \n",
    "    \n",
    "        \n",
    "\n",
    "a = np.array([0, 1])\n",
    "b = np.array([1, 0])\n",
    "dist(a, b)\n"
   ]
  },
  {
   "cell_type": "code",
   "execution_count": 25,
   "metadata": {},
   "outputs": [
    {
     "name": "stdout",
     "output_type": "stream",
     "text": [
      "Accuracy score,  0.9649122807017544\n",
      "Accuracy score,  0.956140350877193\n",
      "CPU times: user 3.07 s, sys: 23.4 ms, total: 3.09 s\n",
      "Wall time: 3.1 s\n"
     ]
    }
   ],
   "source": [
    "from sklearn.datasets import load_breast_cancer\n",
    "from sklearn.ensemble import AdaBoostClassifier\n",
    "from sklearn.model_selection import train_test_split\n",
    "from sklearn.metrics import accuracy_score\n",
    "\n",
    "d = load_breast_cancer()\n",
    "X, y = d.data, d.target \n",
    "y[y==0] = -1\n",
    "model = AdaBoostClassifier(n_estimators=10)\n",
    "\n",
    "def test_accuracy_score(model, X, y):\n",
    "    X_train, X_val, y_train, y_val = train_test_split(X, y, random_state=0, test_size=0.2)\n",
    "    model.fit(X_train, y_train)\n",
    "    print(\"Accuracy score, \", accuracy_score(y_val, model.predict(X_val)))\n",
    "\n",
    "test_accuracy_score(model, X, y)    \n",
    "%time test_accuracy_score(AdaBoost(n_estimators=10), X, y)"
   ]
  },
  {
   "cell_type": "code",
   "execution_count": 91,
   "metadata": {},
   "outputs": [
    {
     "data": {
      "text/plain": [
       "9"
      ]
     },
     "execution_count": 91,
     "metadata": {},
     "output_type": "execute_result"
    }
   ],
   "source": [
    "y = [1, 2, 1, 2, 3]\n",
    "np.sum(y)"
   ]
  },
  {
   "cell_type": "code",
   "execution_count": 7,
   "metadata": {},
   "outputs": [
    {
     "name": "stdout",
     "output_type": "stream",
     "text": [
      "12\n"
     ]
    },
    {
     "ename": "NameError",
     "evalue": "name 'test_accuracy_score' is not defined",
     "output_type": "error",
     "traceback": [
      "\u001b[0;31m---------------------------------------------------------------------------\u001b[0m",
      "\u001b[0;31mNameError\u001b[0m                                 Traceback (most recent call last)",
      "\u001b[0;32m<ipython-input-7-435201ac008b>\u001b[0m in \u001b[0;36m<module>\u001b[0;34m\u001b[0m\n\u001b[1;32m      9\u001b[0m \u001b[0;34m\u001b[0m\u001b[0m\n\u001b[1;32m     10\u001b[0m \u001b[0mmodel\u001b[0m \u001b[0;34m=\u001b[0m \u001b[0mkNN\u001b[0m\u001b[0;34m(\u001b[0m\u001b[0mn_neighbors\u001b[0m\u001b[0;34m=\u001b[0m\u001b[0mK\u001b[0m\u001b[0;34m)\u001b[0m\u001b[0;34m\u001b[0m\u001b[0;34m\u001b[0m\u001b[0m\n\u001b[0;32m---> 11\u001b[0;31m \u001b[0mtest_accuracy_score\u001b[0m\u001b[0;34m(\u001b[0m\u001b[0mmodel\u001b[0m\u001b[0;34m,\u001b[0m \u001b[0mX\u001b[0m\u001b[0;34m,\u001b[0m \u001b[0my\u001b[0m\u001b[0;34m)\u001b[0m\u001b[0;34m\u001b[0m\u001b[0;34m\u001b[0m\u001b[0m\n\u001b[0m\u001b[1;32m     12\u001b[0m \u001b[0;34m\u001b[0m\u001b[0m\n\u001b[1;32m     13\u001b[0m \u001b[0mmodel\u001b[0m \u001b[0;34m=\u001b[0m \u001b[0mKNeighborsClassifier\u001b[0m\u001b[0;34m(\u001b[0m\u001b[0mn_neighbors\u001b[0m\u001b[0;34m=\u001b[0m\u001b[0;36m6\u001b[0m\u001b[0;34m)\u001b[0m\u001b[0;34m\u001b[0m\u001b[0;34m\u001b[0m\u001b[0m\n",
      "\u001b[0;31mNameError\u001b[0m: name 'test_accuracy_score' is not defined"
     ]
    }
   ],
   "source": [
    "from sklearn.neighbors import KNeighborsClassifier\n",
    "from sklearn.datasets import load_iris\n",
    "from sklearn.model_selection import train_test_split\n",
    "\n",
    "d = load_iris()\n",
    "X, y = d.data, d.target\n",
    "\n",
    "K = int(np.sqrt(X.shape[0]))\n",
    "print(K)\n",
    "\n",
    "model = kNN(n_neighbors=K)\n",
    "test_accuracy_score(model, X, y)\n",
    "\n",
    "model = KNeighborsClassifier(n_neighbors=6)\n",
    "test_accuracy_score(model, X, y)"
   ]
  }
 ],
 "metadata": {
  "kernelspec": {
   "display_name": "Python 3",
   "language": "python",
   "name": "python3"
  },
  "language_info": {
   "codemirror_mode": {
    "name": "ipython",
    "version": 3
   },
   "file_extension": ".py",
   "mimetype": "text/x-python",
   "name": "python",
   "nbconvert_exporter": "python",
   "pygments_lexer": "ipython3",
   "version": "3.7.7"
  }
 },
 "nbformat": 4,
 "nbformat_minor": 4
}
