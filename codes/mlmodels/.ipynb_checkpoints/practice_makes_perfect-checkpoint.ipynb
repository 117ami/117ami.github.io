{
 "cells": [
  {
   "cell_type": "markdown",
   "metadata": {},
   "source": [
    "Implement a model per day. Log:\n",
    "* 6-15 Adaboost"
   ]
  },
  {
   "cell_type": "code",
   "execution_count": 104,
   "metadata": {},
   "outputs": [
    {
     "data": {
      "text/plain": [
       "array([1, 1, 1, 1, 1])"
      ]
     },
     "execution_count": 104,
     "metadata": {},
     "output_type": "execute_result"
    }
   ],
   "source": [
    "import numpy as np \n",
    "\n",
    "class DecisionStump:\n",
    "    def __init_(self):\n",
    "        self.polarity = 1\n",
    "        self.feature_idx = None\n",
    "        self.threshold = None\n",
    "        self.weight = None # estimator weight, not sample weight\n",
    "\n",
    "    def predict(self, X):\n",
    "        n_samples = X.shape[0]\n",
    "        X_column = X[:, self.feature_idx]\n",
    "        y_preds = np.ones(n_samples)\n",
    "        if self.polarity == 1:\n",
    "            y_preds[X_column <= self.threshold] = -1\n",
    "        else:\n",
    "            y_preds[X_column > self.threshold] = -1\n",
    "        return y_preds\n",
    "\n",
    "    \n",
    "class AdaBoost:\n",
    "    def __init__(self, n_estimators=5):\n",
    "        self.n_estimators = n_estimators\n",
    "    \n",
    "    def _boost(self, X, y, sample_weight):\n",
    "        '''Implement a single boost using the SAMME discrete algorithm.'''\n",
    "        estimator = DecisionStump()\n",
    "        min_error = 0x3f3f3f3f\n",
    "        n_samples, n_features = X.shape\n",
    "\n",
    "        for idx in range(n_features):\n",
    "            X_column = X[:, idx]\n",
    "            for t in np.unique(X_column):\n",
    "                preds = np.ones(n_samples)\n",
    "                preds[X_column <= t] = -1\n",
    "\n",
    "                '''Use np.sum instead of sum speeds up calculation and improve perfromance'''\n",
    "                error = np.sum(sample_weight[preds != y])\n",
    "\n",
    "                polarity = 1 if error <= 0.5 else -1\n",
    "                error = min(error, 1 - error)\n",
    "\n",
    "                if error < min_error:\n",
    "                    min_error = error\n",
    "                    estimator.polarity = polarity\n",
    "                    estimator.threshold = t \n",
    "                    estimator.feature_idx = idx \n",
    "\n",
    "        estimator.weight = 0.5 * np.log((1 - error) / (error + 1e-10))\n",
    "        y_preds = estimator.predict(X)\n",
    "        sample_weight *= np.exp(- estimator.weight * y * y_preds)\n",
    "        sample_weight /= np.sum(sample_weight)\n",
    "\n",
    "        self.estimators.append(estimator)\n",
    "        return sample_weight\n",
    "        \n",
    "        \n",
    "    def fit(self, X, y):\n",
    "        '''Build a boosted classifier from the training set (X, y)'''\n",
    "        n_samples, n_features = X.shape\n",
    "        sample_weight = np.full(n_samples, 1 / n_samples)\n",
    "        self.estimators = []\n",
    "        \n",
    "        for _ in range(self.n_estimators): # update sample_weight at each round\n",
    "            sample_weight = self._boost(X, y, sample_weight)\n",
    "\n",
    "        return self\n",
    "    \n",
    "    def predict(self, X):\n",
    "        y_preds = np.sum([c.weight * c.predict(X) for c in self.estimators], axis=0)\n",
    "        sign_preds = np.sign(y_preds)\n",
    "        return sign_preds\n",
    "    \n",
    "np.full(5, 1)        "
   ]
  },
  {
   "cell_type": "code",
   "execution_count": 105,
   "metadata": {},
   "outputs": [
    {
     "name": "stdout",
     "output_type": "stream",
     "text": [
      "Accuracy score,  0.9649122807017544\n",
      "Accuracy score,  0.9649122807017544\n",
      "CPU times: user 3.33 s, sys: 20.4 ms, total: 3.35 s\n",
      "Wall time: 3.37 s\n"
     ]
    }
   ],
   "source": [
    "from sklearn.datasets import load_breast_cancer\n",
    "from sklearn.ensemble import AdaBoostClassifier\n",
    "from sklearn.model_selection import train_test_split\n",
    "from sklearn.metrics import accuracy_score\n",
    "\n",
    "d = load_breast_cancer()\n",
    "X, y = d.data, d.target \n",
    "y[y==0] = -1\n",
    "model = AdaBoostClassifier(n_estimators=10)\n",
    "\n",
    "def test_accuracy_score(model, X, y):\n",
    "    X_train, X_val, y_train, y_val = train_test_split(X, y, random_state=0, test_size=0.2)\n",
    "    model.fit(X_train, y_train)\n",
    "    print(\"Accuracy score, \", accuracy_score(y_val, model.predict(X_val)))\n",
    "\n",
    "test_accuracy_score(model, X, y)    \n",
    "%time test_accuracy_score(AdaBoost(n_estimators=10), X, y)"
   ]
  },
  {
   "cell_type": "code",
   "execution_count": 91,
   "metadata": {},
   "outputs": [
    {
     "data": {
      "text/plain": [
       "9"
      ]
     },
     "execution_count": 91,
     "metadata": {},
     "output_type": "execute_result"
    }
   ],
   "source": [
    "y = [1, 2, 1, 2, 3]\n",
    "np.sum(y)"
   ]
  }
 ],
 "metadata": {
  "kernelspec": {
   "display_name": "Python 3",
   "language": "python",
   "name": "python3"
  },
  "language_info": {
   "codemirror_mode": {
    "name": "ipython",
    "version": 3
   },
   "file_extension": ".py",
   "mimetype": "text/x-python",
   "name": "python",
   "nbconvert_exporter": "python",
   "pygments_lexer": "ipython3",
   "version": "3.7.7"
  }
 },
 "nbformat": 4,
 "nbformat_minor": 4
}
