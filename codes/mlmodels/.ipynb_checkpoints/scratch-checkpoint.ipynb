{
 "cells": [
  {
   "cell_type": "code",
   "execution_count": 117,
   "metadata": {},
   "outputs": [
    {
     "data": {
      "text/plain": [
       "matrix([[ 1],\n",
       "        [ 1],\n",
       "        [-1],\n",
       "        [-1],\n",
       "        [ 1]])"
      ]
     },
     "execution_count": 117,
     "metadata": {},
     "output_type": "execute_result"
    }
   ],
   "source": [
    "import numpy as np \n",
    "import math \n",
    "\n",
    "train = np.matrix([[1, 2.1], [2, 1.1], [1.3, 1], [1, 1], [2, 1]])\n",
    "labels = np.matrix([1, 1, -1, -1, 1]).T\n",
    "labels"
   ]
  },
  {
   "cell_type": "code",
   "execution_count": 116,
   "metadata": {},
   "outputs": [
    {
     "name": "stdout",
     "output_type": "stream",
     "text": [
      "[[-0.69314718]\n",
      " [ 0.69314718]\n",
      " [ 0.69314718]\n",
      " [ 0.69314718]\n",
      " [ 0.69314718]] [[-1.]\n",
      " [ 1.]\n",
      " [-1.]\n",
      " [-1.]\n",
      " [ 1.]] 0.2 0.6931471805599453\n",
      "updated weights [[0.1]\n",
      " [0.4]\n",
      " [0.4]\n",
      " [0.4]\n",
      " [0.4]]\n",
      "<class 'numpy.ndarray'> <class 'numpy.matrix'>\n"
     ]
    },
    {
     "ename": "ValueError",
     "evalue": "The truth value of an array with more than one element is ambiguous. Use a.any() or a.all()",
     "output_type": "error",
     "traceback": [
      "\u001b[0;31m---------------------------------------------------------------------------\u001b[0m",
      "\u001b[0;31mValueError\u001b[0m                                Traceback (most recent call last)",
      "\u001b[0;32m<ipython-input-116-8cda26aa0393>\u001b[0m in \u001b[0;36m<module>\u001b[0;34m\u001b[0m\n\u001b[1;32m     58\u001b[0m \u001b[0mab\u001b[0m \u001b[0;34m=\u001b[0m \u001b[0mAdaBoost\u001b[0m\u001b[0;34m(\u001b[0m\u001b[0;34m)\u001b[0m\u001b[0;34m\u001b[0m\u001b[0;34m\u001b[0m\u001b[0m\n\u001b[1;32m     59\u001b[0m \u001b[0m_\u001b[0m\u001b[0;34m,\u001b[0m \u001b[0merror\u001b[0m\u001b[0;34m,\u001b[0m \u001b[0m_\u001b[0m \u001b[0;34m=\u001b[0m \u001b[0mab\u001b[0m\u001b[0;34m.\u001b[0m\u001b[0mbuild_stump\u001b[0m\u001b[0;34m(\u001b[0m\u001b[0mtrain\u001b[0m\u001b[0;34m,\u001b[0m \u001b[0mlabels\u001b[0m\u001b[0;34m,\u001b[0m \u001b[0mnp\u001b[0m\u001b[0;34m.\u001b[0m\u001b[0mmatrix\u001b[0m\u001b[0;34m(\u001b[0m\u001b[0mnp\u001b[0m\u001b[0;34m.\u001b[0m\u001b[0mones\u001b[0m\u001b[0;34m(\u001b[0m\u001b[0;34m(\u001b[0m\u001b[0;36m5\u001b[0m\u001b[0;34m,\u001b[0m \u001b[0;36m1\u001b[0m\u001b[0;34m)\u001b[0m\u001b[0;34m)\u001b[0m\u001b[0;34m/\u001b[0m\u001b[0;36m5\u001b[0m\u001b[0;34m)\u001b[0m\u001b[0;34m)\u001b[0m\u001b[0;34m\u001b[0m\u001b[0;34m\u001b[0m\u001b[0m\n\u001b[0;32m---> 60\u001b[0;31m \u001b[0mab\u001b[0m\u001b[0;34m.\u001b[0m\u001b[0mada_boost_train\u001b[0m\u001b[0;34m(\u001b[0m\u001b[0mtrain\u001b[0m\u001b[0;34m,\u001b[0m \u001b[0mlabels\u001b[0m\u001b[0;34m,\u001b[0m \u001b[0;36m10\u001b[0m\u001b[0;34m)\u001b[0m\u001b[0;34m\u001b[0m\u001b[0;34m\u001b[0m\u001b[0m\n\u001b[0m\u001b[1;32m     61\u001b[0m \u001b[0;34m\u001b[0m\u001b[0m\n",
      "\u001b[0;32m<ipython-input-116-8cda26aa0393>\u001b[0m in \u001b[0;36mada_boost_train\u001b[0;34m(self, train, labels, steps)\u001b[0m\n\u001b[1;32m     52\u001b[0m             \u001b[0mprint\u001b[0m\u001b[0;34m(\u001b[0m\u001b[0;34m'updated weights'\u001b[0m\u001b[0;34m,\u001b[0m \u001b[0mupdated_weights\u001b[0m\u001b[0;34m)\u001b[0m\u001b[0;34m\u001b[0m\u001b[0;34m\u001b[0m\u001b[0m\n\u001b[1;32m     53\u001b[0m             \u001b[0mprint\u001b[0m\u001b[0;34m(\u001b[0m\u001b[0mtype\u001b[0m\u001b[0;34m(\u001b[0m\u001b[0mpreds\u001b[0m\u001b[0;34m)\u001b[0m\u001b[0;34m,\u001b[0m \u001b[0mtype\u001b[0m\u001b[0;34m(\u001b[0m\u001b[0mlabels\u001b[0m\u001b[0;34m)\u001b[0m\u001b[0;34m)\u001b[0m\u001b[0;34m\u001b[0m\u001b[0;34m\u001b[0m\u001b[0m\n\u001b[0;32m---> 54\u001b[0;31m             \u001b[0;32mif\u001b[0m \u001b[0mpreds\u001b[0m \u001b[0;34m==\u001b[0m \u001b[0mlabels\u001b[0m\u001b[0;34m:\u001b[0m\u001b[0;34m\u001b[0m\u001b[0;34m\u001b[0m\u001b[0m\n\u001b[0m\u001b[1;32m     55\u001b[0m                 \u001b[0;32mbreak\u001b[0m\u001b[0;34m\u001b[0m\u001b[0;34m\u001b[0m\u001b[0m\n\u001b[1;32m     56\u001b[0m \u001b[0;34m\u001b[0m\u001b[0m\n",
      "\u001b[0;31mValueError\u001b[0m: The truth value of an array with more than one element is ambiguous. Use a.any() or a.all()"
     ]
    }
   ],
   "source": [
    "class AdaBoost():\n",
    "    def weak_learner(self, train, col_idx, thresh_val, inequal):\n",
    "        '''Use weak classifier to make predictions \n",
    "        '''\n",
    "        preds = np.ones((train.shape[0], 1))\n",
    "        if inequal == 'lt':\n",
    "            preds[train[:, col_idx] <= thresh_val] = -1\n",
    "        else:\n",
    "            preds[train[:, col_idx] > thresh_val] = -1\n",
    "        return preds\n",
    "            \n",
    "    def build_stump(self, train, labels, weights):\n",
    "        m, n = train.shape\n",
    "        D = weights\n",
    "        iter_count = 10\n",
    "        best_stump = {}\n",
    "        min_error = float('inf')\n",
    "        best_preds = None\n",
    "        \n",
    "        for i in range(n):\n",
    "            minv, maxv = train[:, i].min(), train[:, i].max()\n",
    "            step = (maxv - minv) / iter_count \n",
    "            for thresh_val in np.arange(minv - step, maxv + step, step):\n",
    "                for inequal in ['lt', 'gt']:\n",
    "                    preds = self.weak_learner(train, i, thresh_val, inequal)\n",
    "                    err = np.matrix(np.ones((m, 1)))\n",
    "                    err[preds == labels] = 0\n",
    "                    weighted_err = D.T * err\n",
    "#                     print(f\"split dim {i}, thresh {thresh_val}, inequal {inequal}, weighted error {weighted_err}\")\n",
    "                    \n",
    "                    if weighted_err < min_error:\n",
    "                        min_error = weighted_err\n",
    "                        best_preds = preds\n",
    "                        best_stump = {'dim': i, 'thresh_val': thresh_val, 'inequal': inequal}\n",
    "\n",
    "        return best_stump, min_error.item(), best_preds\n",
    "    \n",
    "    def ada_boost_train(self, train, labels, steps=10):\n",
    "        weak_learner = []\n",
    "        m, n = train.shape\n",
    "        weights = np.matrix(np.ones((m, 1))/m)\n",
    "        for i in range(steps):\n",
    "            best_stump, error, preds = self.build_stump(train, labels, weights)\n",
    "#             print(\"Sample weights \", weights)\n",
    "            \n",
    "            alpha = np.log((1-error) / max(error, 1e-16)) / 2\n",
    "            expon = np.array([alpha if labels[i] == preds[i] else -alpha for i in range(labels.shape[0])])\n",
    "            expon = expon.reshape(m, 1)\n",
    "            print(expon, preds, error, alpha)\n",
    "            updated_weights = np.multiply(weights, np.exp(expon)) / weights.sum()\n",
    "            weights = updated_weights\n",
    "            print('updated weights', updated_weights)\n",
    "            print(type(preds), type(labels))\n",
    "            if preds == labels:\n",
    "                break\n",
    "    \n",
    "\n",
    "ab = AdaBoost()\n",
    "_, error, _ = ab.build_stump(train, labels, np.matrix(np.ones((5, 1))/5))\n",
    "ab.ada_boost_train(train, labels, 10)\n",
    "\n"
   ]
  }
 ],
 "metadata": {
  "kernelspec": {
   "display_name": "Python 3",
   "language": "python",
   "name": "python3"
  },
  "language_info": {
   "codemirror_mode": {
    "name": "ipython",
    "version": 3
   },
   "file_extension": ".py",
   "mimetype": "text/x-python",
   "name": "python",
   "nbconvert_exporter": "python",
   "pygments_lexer": "ipython3",
   "version": "3.7.7"
  }
 },
 "nbformat": 4,
 "nbformat_minor": 2
}
