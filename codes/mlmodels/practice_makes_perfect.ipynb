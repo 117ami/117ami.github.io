{
 "cells": [
  {
   "cell_type": "markdown",
   "metadata": {},
   "source": [
    "Implement a model per day. Log:\n",
    "* 6-15 Adaboost\n",
    "* 6-17 kNN\n",
    "* 6-18 AdaBoost"
   ]
  },
  {
   "cell_type": "code",
   "execution_count": 24,
   "metadata": {},
   "outputs": [
    {
     "data": {
      "text/plain": [
       "array([3, 5])"
      ]
     },
     "execution_count": 24,
     "metadata": {},
     "output_type": "execute_result"
    }
   ],
   "source": [
    "import numpy as np\n",
    "\n"
   ]
  },
  {
   "cell_type": "code",
   "execution_count": 25,
   "metadata": {},
   "outputs": [
    {
     "name": "stdout",
     "output_type": "stream",
     "text": [
      "Accuracy score,  0.9649122807017544\n",
      "Accuracy score,  0.956140350877193\n",
      "CPU times: user 3.07 s, sys: 23.4 ms, total: 3.09 s\n",
      "Wall time: 3.1 s\n"
     ]
    }
   ],
   "source": [
    "from sklearn.datasets import load_breast_cancer\n",
    "from sklearn.ensemble import AdaBoostClassifier\n",
    "from sklearn.model_selection import train_test_split\n",
    "from sklearn.metrics import accuracy_score\n",
    "\n",
    "d = load_breast_cancer()\n",
    "X, y = d.data, d.target \n",
    "y[y==0] = -1\n",
    "model = AdaBoostClassifier(n_estimators=10)\n",
    "\n",
    "def test_accuracy_score(model, X, y):\n",
    "    X_train, X_val, y_train, y_val = train_test_split(X, y, random_state=0, test_size=0.2)\n",
    "    model.fit(X_train, y_train)\n",
    "    print(\"Accuracy score, \", accuracy_score(y_val, model.predict(X_val)))\n",
    "\n",
    "test_accuracy_score(model, X, y)    \n",
    "%time test_accuracy_score(AdaBoost(n_estimators=10), X, y)"
   ]
  },
  {
   "cell_type": "code",
   "execution_count": 91,
   "metadata": {},
   "outputs": [
    {
     "data": {
      "text/plain": [
       "9"
      ]
     },
     "execution_count": 91,
     "metadata": {},
     "output_type": "execute_result"
    }
   ],
   "source": [
    "y = [1, 2, 1, 2, 3]\n",
    "np.sum(y)"
   ]
  }
 ],
 "metadata": {
  "kernelspec": {
   "display_name": "Python 3",
   "language": "python",
   "name": "python3"
  },
  "language_info": {
   "codemirror_mode": {
    "name": "ipython",
    "version": 3
   },
   "file_extension": ".py",
   "mimetype": "text/x-python",
   "name": "python",
   "nbconvert_exporter": "python",
   "pygments_lexer": "ipython3",
   "version": "3.7.7"
  }
 },
 "nbformat": 4,
 "nbformat_minor": 4
}
