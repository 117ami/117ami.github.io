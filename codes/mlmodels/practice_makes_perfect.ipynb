{
 "cells": [
  {
   "cell_type": "markdown",
   "metadata": {},
   "source": [
    "Implement a model per day. Log:\n",
    "* 6-15 Adaboost\n",
    "* 6-17 kNN\n",
    "* 6-18 AdaBoost\n",
    "* 6-23 AdaBoost\n",
    "* 6-24 kNN\n",
    "* 6-25 kNN AdaBoost"
   ]
  },
  {
   "cell_type": "code",
   "execution_count": 43,
   "metadata": {},
   "outputs": [
    {
     "name": "stdout",
     "output_type": "stream",
     "text": [
      "0.6122448979591837\n"
     ]
    },
    {
     "data": {
      "text/plain": [
       "1.4488156357251847"
      ]
     },
     "execution_count": 43,
     "metadata": {},
     "output_type": "execute_result"
    }
   ],
   "source": [
    "import numpy as np\n",
    "from sklearn.preprocessing import StandardScaler \n",
    "from collections import Counter\n",
    "from sklearn.neighbors import KNeighborsClassifier\n",
    "from sklearn.datasets import load_iris, load_breast_cancer\n",
    "from sklearn import datasets\n",
    "from sklearn.model_selection import train_test_split\n",
    "from sklearn.ensemble import AdaBoostClassifier\n",
    "from sklearn.metrics import accuracy_score, f1_score\n",
    "\n",
    "def gini(y):\n",
    "    cnt = Counter(y).values()\n",
    "    if len(cnt) < 1: return 0\n",
    "    total = sum(cnt)\n",
    "    return 1 - sum(map(lambda c: c ** 2, cnt))  / (total ** 2)\n",
    "\n",
    "def entropy(y):\n",
    "    frequencies = Counter(y).values)(\n",
    "    total = sum(frequencies)\n",
    "    return - sum(map(lambda f: (f/total) * np.log2(f/total), frequencies))\n",
    "            \n",
    "y = [2, 3, 2, 2, 3, 3, 1]\n",
    "print(gini(y))\n",
    "np.unique(y, return_counts=True)\n",
    "entropy(y)"
   ]
  },
  {
   "cell_type": "code",
   "execution_count": 23,
   "metadata": {},
   "outputs": [
    {
     "name": "stdout",
     "output_type": "stream",
     "text": [
      "Accuracy score,  0.9649122807017544\n",
      "F1 score,  0.9705882352941176\n",
      "Accuracy score,  0.956140350877193\n",
      "F1 score,  0.962962962962963\n",
      "CPU times: user 3.24 s, sys: 25.4 ms, total: 3.27 s\n",
      "Wall time: 3.29 s\n"
     ]
    }
   ],
   "source": [
    "d = load_breast_cancer()\n",
    "X, y = d.data, d.target \n",
    "y[y==0] = -1\n",
    "model = AdaBoostClassifier(n_estimators=10)\n",
    "\n",
    "def test_accuracy_score(model, X, y):\n",
    "    X_train, X_val, y_train, y_val = train_test_split(X, y, random_state=0, test_size=0.2)\n",
    "    model.fit(X_train, y_train)\n",
    "    print(\"Accuracy score, \", accuracy_score(y_val, model.predict(X_val)))\n",
    "    print(\"F1 score, \", f1_score(y_val, model.predict(X_val)))\n",
    "\n",
    "test_accuracy_score(model, X, y)    \n",
    "%time test_accuracy_score(AdaBoost(n_estimators=10), X, y)"
   ]
  },
  {
   "cell_type": "code",
   "execution_count": 91,
   "metadata": {},
   "outputs": [
    {
     "data": {
      "text/plain": [
       "9"
      ]
     },
     "execution_count": 91,
     "metadata": {},
     "output_type": "execute_result"
    }
   ],
   "source": [
    "y = [1, 2, 1, 2, 3]\n",
    "np.sum(y)"
   ]
  },
  {
   "cell_type": "code",
   "execution_count": 6,
   "metadata": {},
   "outputs": [
    {
     "name": "stdout",
     "output_type": "stream",
     "text": [
      "12\n",
      "Accuracy score,  1.0\n",
      "Accuracy score,  1.0\n"
     ]
    }
   ],
   "source": [
    "\n",
    "def test_accuracy_score(model, X, y):\n",
    "    X_train, X_val, y_train, y_val = train_test_split(X, y, random_state=0, test_size=0.2)\n",
    "    model.fit(X_train, y_train)\n",
    "    print(\"Accuracy score, \", accuracy_score(y_val, model.predict(X_val)))\n",
    "\n",
    "d = load_iris()\n",
    "X, y = d.data, d.target\n",
    "\n",
    "K = int(np.sqrt(X.shape[0]))\n",
    "print(K)\n",
    "\n",
    "model = kNN(n_neighbors=K)\n",
    "test_accuracy_score(model, X, y)\n",
    "\n",
    "model = KNeighborsClassifier(n_neighbors=6)\n",
    "test_accuracy_score(model, X, y)\n"
   ]
  }
 ],
 "metadata": {
  "kernelspec": {
   "display_name": "Python 3",
   "language": "python",
   "name": "python3"
  },
  "language_info": {
   "codemirror_mode": {
    "name": "ipython",
    "version": 3
   },
   "file_extension": ".py",
   "mimetype": "text/x-python",
   "name": "python",
   "nbconvert_exporter": "python",
   "pygments_lexer": "ipython3",
   "version": "3.7.7"
  }
 },
 "nbformat": 4,
 "nbformat_minor": 4
}
